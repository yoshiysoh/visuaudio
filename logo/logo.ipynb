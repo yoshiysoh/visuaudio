{
 "cells": [
  {
   "cell_type": "code",
   "execution_count": 6,
   "id": "1ca7c162-af60-487a-b552-ea31a69ef18f",
   "metadata": {},
   "outputs": [],
   "source": [
    "import numpy as np\n",
    "import matplotlib.pyplot as plt\n",
    "from PIL import Image"
   ]
  },
  {
   "cell_type": "code",
   "execution_count": 2,
   "id": "d91947a5-c094-4151-8ac6-46f1961c6239",
   "metadata": {},
   "outputs": [],
   "source": [
    "characters = []\n",
    "colors = []\n",
    "# V\n",
    "character = np.array([\n",
    "    [0, 4],\n",
    "    [1.5, 0],\n",
    "    [3, 4],\n",
    "])\n",
    "characters.append(character)\n",
    "colors.append(\"k\")\n",
    "# i (dot)\n",
    "r = 0.2\n",
    "character = np.array([\n",
    "    [5-r, 3+r],\n",
    "    [5+r, 3+r],\n",
    "    [5+r, 3-r],\n",
    "    [5-r, 3-r],\n",
    "    [5-r, 3+r],\n",
    "])\n",
    "characters.append(character)\n",
    "colors.append(\"C0\")\n",
    "# i (line)\n",
    "character = np.array([\n",
    "    [5, 2],\n",
    "    [5, 0],\n",
    "])\n",
    "characters.append(character)\n",
    "colors.append(\"k\")\n",
    "# s\n",
    "character = np.array([\n",
    "    [9, 3],\n",
    "    [7, 3],\n",
    "    [7, 1.5],\n",
    "    [9, 1.5],\n",
    "    [9, 0],\n",
    "    [7, 0],\n",
    "])\n",
    "characters.append(character)\n",
    "colors.append(\"k\")\n",
    "# u\n",
    "character = np.array([\n",
    "    [11, 3],\n",
    "    [11, 0],\n",
    "    [13, 0],\n",
    "    [13, 3],\n",
    "])\n",
    "characters.append(character)\n",
    "colors.append(\"k\")\n",
    "# A (upper colors)\n",
    "character = np.array([\n",
    "    [15, 4],\n",
    "    [18, 4],\n",
    "    [18, 2],\n",
    "    [15, 2],\n",
    "    [15, 4],\n",
    "])\n",
    "characters.append(character)\n",
    "colors.append(\"C1\")\n",
    "# A (lower left line)\n",
    "character = np.array([\n",
    "    [15, 2],\n",
    "    [15, 0],\n",
    "])\n",
    "characters.append(character)\n",
    "colors.append(\"C1\")\n",
    "# A (lower right line)\n",
    "character = np.array([\n",
    "    [18, 2],\n",
    "    [18, 0],\n",
    "])\n",
    "characters.append(character)\n",
    "colors.append(\"C1\")\n",
    "# u\n",
    "character = np.array([\n",
    "    [20, 3],\n",
    "    [20, 0],\n",
    "    [22, 0],\n",
    "    [22, 3],\n",
    "])\n",
    "characters.append(character)\n",
    "colors.append(\"k\")\n",
    "# d\n",
    "character = np.array([\n",
    "    [26, 2],\n",
    "    [24, 2],\n",
    "    [24, 0],\n",
    "    [26, 0],\n",
    "    [26, 3],\n",
    "])\n",
    "characters.append(character)\n",
    "colors.append(\"C1\")\n",
    "# i (dot)\n",
    "r = 0.2\n",
    "character = np.array([\n",
    "    [28-r, 3+r],\n",
    "    [28+r, 3+r],\n",
    "    [28+r, 3-r],\n",
    "    [28-r, 3-r],\n",
    "    [28-r, 3+r],\n",
    "])\n",
    "characters.append(character)\n",
    "colors.append(\"C0\")\n",
    "# i (line)\n",
    "character = np.array([\n",
    "    [28, 2],\n",
    "    [28, 0],\n",
    "])\n",
    "characters.append(character)\n",
    "colors.append(\"k\")\n",
    "# O\n",
    "character = np.array([\n",
    "    [30, 4],\n",
    "    [33, 4],\n",
    "    [33, 0],\n",
    "    [30, 0],\n",
    "    [30, 4],\n",
    "])\n",
    "characters.append(character)\n",
    "colors.append(\"C0\")\n",
    "\n"
   ]
  },
  {
   "cell_type": "code",
   "execution_count": 3,
   "id": "d4fa7f4e-b6e5-4ab9-aa8a-e74f6071d705",
   "metadata": {},
   "outputs": [
    {
     "data": {
      "image/png": "[encoded data removed]",
      "text/plain": [
       "<Figure size 640x480 with 1 Axes>"
      ]
     },
     "metadata": {},
     "output_type": "display_data"
    }
   ],
   "source": [
    "fig, ax = plt.subplots()\n",
    "ax.axis(\"off\")\n",
    "ax.set_aspect(\"equal\")\n",
    "for character in characters:\n",
    "    ax.plot(character[:, 0], character[:, 1], c=\"k\")\n",
    "fig.savefig(\"logo.pdf\")\n",
    "fig.savefig(\"logo.png\")"
   ]
  },
  {
   "cell_type": "code",
   "execution_count": 4,
   "id": "782402a4-746f-4d3a-a25e-15411c6d421c",
   "metadata": {},
   "outputs": [
    {
     "data": {
      "image/png": "[encoded data removed]",
      "text/plain": [
       "<Figure size 640x480 with 1 Axes>"
      ]
     },
     "metadata": {},
     "output_type": "display_data"
    }
   ],
   "source": [
    "fig, ax = plt.subplots()\n",
    "ax.axis(\"off\")\n",
    "ax.set_aspect(\"equal\")\n",
    "for character, c in zip (characters, colors):\n",
    "    ax.plot(character[:, 0], character[:, 1], c=c)\n",
    "fig.savefig(\"logo_light.pdf\", transparent=False)\n",
    "fig.savefig(\"logo_light.png\", transparent=False)"
   ]
  },
  {
   "cell_type": "code",
   "execution_count": 5,
   "id": "70e31e9f-18c9-43e6-a88d-a8039ec08a16",
   "metadata": {},
   "outputs": [
    {
     "data": {
      "image/png": "[encoded data removed]",
      "text/plain": [
       "<Figure size 640x480 with 1 Axes>"
      ]
     },
     "metadata": {},
     "output_type": "display_data"
    }
   ],
   "source": [
    "with plt.style.context(\"dark_background\"):\n",
    "    fig, ax = plt.subplots()\n",
    "    ax.axis(\"off\")\n",
    "    ax.set_aspect(\"equal\")\n",
    "    for character, c in zip (characters, colors):\n",
    "        if c == 'k':\n",
    "            c = 'w'\n",
    "        ax.plot(character[:, 0], character[:, 1], c=c)\n",
    "    fig.savefig(\"logo_dark.pdf\", transparent=False)\n",
    "    fig.savefig(\"logo_dark.png\", transparent=False)"
   ]
  },
  {
   "cell_type": "code",
   "execution_count": 19,
   "id": "80257d5c-5f9b-4be5-8a2c-a10f954673d7",
   "metadata": {},
   "outputs": [],
   "source": [
    "logo_light = Image.open(\"logo_light.png\")\n",
    "logo_dark = Image.open(\"logo_dark.png\")\n",
    "\n",
    "size = logo_light.size\n",
    "\n",
    "# left, top, right, bottom\n",
    "half_light = logo_light.crop((0, 0, size[0]/2, size[1]))\n",
    "half_dark = logo_dark.crop((size[0]/2, 0, size[0], size[1]))\n",
    "\n",
    "combi = np.hstack((half_light, half_dark))\n",
    "combi = Image.fromarray(combi)\n",
    "combi.save(\"logo_light_dark.png\")"
   ]
  },
  {
   "cell_type": "code",
   "execution_count": null,
   "id": "d01dcb5f-e497-42f4-a68e-82cb8852f174",
   "metadata": {},
   "outputs": [],
   "source": []
  }
 ],
 "metadata": {
  "kernelspec": {
   "display_name": "Python 3 (ipykernel)",
   "language": "python",
   "name": "python3"
  },
  "language_info": {
   "codemirror_mode": {
    "name": "ipython",
    "version": 3
   },
   "file_extension": ".py",
   "mimetype": "text/x-python",
   "name": "python",
   "nbconvert_exporter": "python",
   "pygments_lexer": "ipython3",
   "version": "3.10.11"
  }
 },
 "nbformat": 4,
 "nbformat_minor": 5
}
